{
  "nbformat": 4,
  "nbformat_minor": 0,
  "metadata": {
    "colab": {
      "name": "basicuseruserGraphgen.ipynb",
      "provenance": [],
      "collapsed_sections": []
    },
    "kernelspec": {
      "name": "python3",
      "display_name": "Python 3"
    },
    "language_info": {
      "name": "python"
    }
  },
  "cells": [
    {
      "cell_type": "code",
      "execution_count": null,
      "metadata": {
        "id": "6CcVbxmEs2rS"
      },
      "outputs": [],
      "source": [
        "import pandas as pd"
      ]
    },
    {
      "cell_type": "code",
      "source": [
        "import networkx as nx"
      ],
      "metadata": {
        "id": "LIqOT1xVs6Nk"
      },
      "execution_count": null,
      "outputs": []
    },
    {
      "cell_type": "code",
      "source": [
        "df4 = pd.read_csv('participantsV3.csv')\n",
        "df5 = pd.read_csv('projects_authors_splitV3.csv')"
      ],
      "metadata": {
        "id": "2lCh1TUOs8J7"
      },
      "execution_count": null,
      "outputs": []
    },
    {
      "cell_type": "code",
      "source": [
        "G = nx.Graph()"
      ],
      "metadata": {
        "id": "alaNzZu4n2_7"
      },
      "execution_count": null,
      "outputs": []
    },
    {
      "cell_type": "code",
      "source": [
        "for x in df4['0']:\n",
        "  G.add_node(str(x))"
      ],
      "metadata": {
        "id": "SDzgtLt8oxqU"
      },
      "execution_count": null,
      "outputs": []
    },
    {
      "cell_type": "code",
      "source": [
        "for x in df5['participants']:\n",
        "  plist = str(x).split(',')\n",
        "  \n",
        "  for y in plist:\n",
        "    for z in plist:\n",
        "      if str(y) == str(z):\n",
        "        continue\n",
        "      G.add_edge(str(x), str(y))\n",
        "\n"
      ],
      "metadata": {
        "id": "8ziMc78gpAgk"
      },
      "execution_count": null,
      "outputs": []
    }
  ]
}